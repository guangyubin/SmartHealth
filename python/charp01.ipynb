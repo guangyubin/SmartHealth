{
 "metadata": {
  "language_info": {
   "codemirror_mode": {
    "name": "ipython",
    "version": 3
   },
   "file_extension": ".py",
   "mimetype": "text/x-python",
   "name": "python",
   "nbconvert_exporter": "python",
   "pygments_lexer": "ipython3",
   "version": "3.6.5-final"
  },
  "orig_nbformat": 2,
  "kernelspec": {
   "name": "Python 3.6.5 64-bit",
   "display_name": "Python 3.6.5 64-bit",
   "metadata": {
    "interpreter": {
     "hash": "b3ba2566441a7c06988d0923437866b63cedc61552a5af99d1f4fb67d367b25f"
    }
   }
  }
 },
 "nbformat": 4,
 "nbformat_minor": 2,
 "cells": [
  {
   "source": [
    "\n",
    "\n",
    "# 1. VS Code编程环境搭建\n",
    "## 1.1 VS Code 下C/C++编程\n",
    "### 1.1.1 安装\n",
    "1. 下载安装VS Code。  \n",
    "2. 解压缩mingw64， 把mingw64/bin加入到环境变量的系统变量的PATH中  \n",
    "3. 下载CMAKE，并安装    \n",
    "4.  VS Code 安装插件 C/C++ 、 Cmake tools插件,CMake langage support for Visual Studio Code插件，Markdown All in One插件    \n",
    "\n",
    "### 1.1.2 第一个C/C++程序\n",
    "1. 从https://github.com/guangyubin/SmartHealth 下载课件，解压缩到某个目录\n",
    "2. smartHealth分为ccode，python，doc，data四个文件夹\n",
    "3. 在ccode目录下有test,ecglib,wfdb四个三个文件夹\n",
    "4. 在vccode中打开文件夹smartHealth文件夹\n",
    "5. 在smarthealth文件甲下新建CMakeLists.txt文件，写入如下代码\n",
    "   ```\n",
    "    cmake_minimum_required(VERSION 3.0.0)\n",
    "    project(SMARTHEALTH VERSION 0.1.0)\n",
    "    add_subdirectory(ccode)\n",
    "\n",
    "   ```\n",
    "6. 在ccode文件夹下，新建CMakeLists.txt文件，写入如下代码\n",
    "7. 在test文件夹下，新建main.cpp文件，写入如下代码\n",
    "```\n",
    "#include <iostream>\n",
    "#include \"ecglib.h\"\n",
    "\n",
    "int main(int, char**) {\n",
    "    std::cout << \"Hello, world!\\n\" ; \n",
    "}\n",
    "```\n",
    "8. 点击生成，运行。\n",
    "输出结果\n",
    "Hello, world!  \n",
    "\n",
    "### 1.1.3 参考文献：  \n",
    "1. [mingw配置]( https://code.visualstudio.com/docs/cpp/config-mingw)  \n",
    "2. [Cmake配置](https://code.visualstudio.com/docs/cpp/CMake-linux)\n",
    "3. [Cmake使用 ](http://phonzia.github.io/2015/12/CMake)\n",
    "\n",
    "## 1.2 VS Code 下Python编程\n",
    "### 1.2.1 安装\n",
    "1. 安装Python\n",
    "2. 安装Python插件\n",
    "3. 修改pip路径\n",
    "``` \n",
    "pip install pip -U\n",
    "pip config set global.index-url https://pypi.tuna.tsinghua.edu.cn/simple\n",
    " ```  \n",
    "<!--  -->\n",
    "4. 安装Anaconda，修改Anaconda的环境变量\n",
    "5. 新建一个虚拟环境  conda create -n myevn --clone base\n",
    "6. 有可能需要初始化conda ：Conda init \n",
    "7. 把activate 路径放在环境变量Path中  \n",
    "C:\\ProgramData\\Anaconda3\\Scripts  \n",
    "C:\\ProgramData\\Anaconda3\\condabin\\\n",
    "8. numpy 等可能不能用，pip install --upgrade numpy进行升级  \n",
    "\n",
    "### 1.2.2 Notebook 的使用\n",
    "1. ctrl+shift+P 输入python notebook ，新建一个ipynb文件\n",
    "2. 可以在code和markdown之间进行切换。\n",
    "3. code的cell可以直接运行，画出来的图可以在工作区显示\n",
    "4. 在上面可以看到变量\n",
    "5. 可以导出为xml格式的文件，可以用于打印\n",
    "\n",
    "#### 1.2.3 使用示范\n",
    "在notebook下实现下面的代码，导出为xml文件。"
   ],
   "cell_type": "markdown",
   "metadata": {}
  },
  {
   "source": [
    "import numpy as np\n",
    "import matplotlib.pyplot as plt\n",
    "x=np.arange(-5,15,0.1)\n",
    "y=x*3\n",
    "plt.plot(x,y)\n",
    "plt.show()"
   ],
   "cell_type": "code",
   "metadata": {},
   "execution_count": 2,
   "outputs": [
    {
     "output_type": "display_data",
     "data": {
      "text/plain": "<Figure size 432x288 with 1 Axes>",
      "image/png": "[encoded data removed]"
     },
     "metadata": {
      "needs_background": "light"
     }
    }
   ]
  },
  {
   "source": [
    "## 1.3  作业\n",
    "\n",
    "\n",
    "3. 熟悉Markdown语法,<font color=\"#006666\"> 在下面加入你们对markdown语法的学习笔记</font><br />\n",
    "\n",
    "4. 在python文件夹下新建charp01_py.ipynb文件，编写代码读取R波位置的文件，计算心率曲线。要求心率每一秒更新一次，画出100.atr文件的心率曲线。\n",
    "5. 运行charp01_py.ipynb文件，保存为xml或者pdf，在下节课前发送到邮箱guangyubin@qq.com\n",
    "6. 本作业占10分"
   ],
   "cell_type": "markdown",
   "metadata": {}
  },
  {
   "cell_type": "code",
   "execution_count": null,
   "metadata": {},
   "outputs": [],
   "source": []
  },
  {
   "source": [
    "### 1.3.1  编写makefile文件，把wfdb编译成库\n",
    "```\n",
    "// 在此加入你们编写的makefile文件代码\n",
    "\n",
    "\n",
    "```"
   ],
   "cell_type": "markdown",
   "metadata": {}
  },
  {
   "source": [
    "\n",
    "### 1.3.2  在test/main.c 中调用wfdb，读取ate文件，把R波位置存储成文件\n",
    "```\n",
    "//在此加入main.c中的核心代码\n",
    "\n",
    "\n",
    "```"
   ],
   "cell_type": "markdown",
   "metadata": {}
  },
  {
   "source": [
    "### 1.3.3  熟悉Markdown语法,<font color=\"#006666\"> 在下面加入你们对markdown语法的学习笔记</font><br />\n"
   ],
   "cell_type": "markdown",
   "metadata": {}
  },
  {
   "source": [
    "### 1.3.4 编写代码读取atr文件中R波位置的文件，计算心率曲线。要求心率每一秒更新一次，画出100.atr文件的心率曲线"
   ],
   "cell_type": "markdown",
   "metadata": {}
  },
  {
   "source": [
    "# 在下面编写python代码，画出100.atr的心率曲线"
   ],
   "cell_type": "code",
   "metadata": {},
   "execution_count": null,
   "outputs": []
  },
  {
   "source": [
    " ### 1.3.5 运行charp01.ipynb文件，保存为xml或者pdf，在下节课前发送到邮箱guangyubin@qq.com. 本作业占10分"
   ],
   "cell_type": "markdown",
   "metadata": {}
  }
 ]
}